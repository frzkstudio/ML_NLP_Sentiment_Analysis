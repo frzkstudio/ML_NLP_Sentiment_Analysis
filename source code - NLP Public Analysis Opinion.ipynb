{
 "cells": [
  {
   "attachments": {},
   "cell_type": "markdown",
   "metadata": {},
   "source": [
    "# menganalisis sentimen pengguna twitter terhadap kata kunci \"Piala Dunia\""
   ]
  },
  {
   "attachments": {},
   "cell_type": "markdown",
   "metadata": {},
   "source": [
    "### import data"
   ]
  },
  {
   "cell_type": "code",
   "execution_count": 1,
   "metadata": {},
   "outputs": [],
   "source": [
    "import pandas as pd \n",
    "import re\n",
    "import string\n",
    "import nltk\n",
    "import numpy as np\n",
    "import json\n",
    "import tweepy\n",
    "import requests\n",
    "import matplotlib.pyplot as plt\n",
    "import seaborn as sns"
   ]
  },
  {
   "cell_type": "code",
   "execution_count": 2,
   "metadata": {},
   "outputs": [],
   "source": [
    "with open(\"token.json\")as f:\n",
    "  tokens = json.load(f)\n",
    "\n",
    "bearer_token = tokens['bearer_token']\n",
    "api_key = tokens['api_key']\n",
    "api_key_secret = tokens['api_key_secret']\n",
    "access_token = tokens['access_token']\n",
    "access_token_secret = tokens['access_token_secret']"
   ]
  },
  {
   "attachments": {},
   "cell_type": "markdown",
   "metadata": {},
   "source": [
    "### menambahkan query \"piala dunia\" sebanyak 500"
   ]
  },
  {
   "cell_type": "code",
   "execution_count": 3,
   "metadata": {},
   "outputs": [
    {
     "data": {
      "text/html": [
       "<div>\n",
       "<style scoped>\n",
       "    .dataframe tbody tr th:only-of-type {\n",
       "        vertical-align: middle;\n",
       "    }\n",
       "\n",
       "    .dataframe tbody tr th {\n",
       "        vertical-align: top;\n",
       "    }\n",
       "\n",
       "    .dataframe thead th {\n",
       "        text-align: right;\n",
       "    }\n",
       "</style>\n",
       "<table border=\"1\" class=\"dataframe\">\n",
       "  <thead>\n",
       "    <tr style=\"text-align: right;\">\n",
       "      <th></th>\n",
       "      <th>Tweet</th>\n",
       "    </tr>\n",
       "  </thead>\n",
       "  <tbody>\n",
       "    <tr>\n",
       "      <th>0</th>\n",
       "      <td>RT @kiminigyu: Gagal Jadi Tuan Rumah Piala Dun...</td>\n",
       "    </tr>\n",
       "    <tr>\n",
       "      <th>1</th>\n",
       "      <td>RT @republikaonline: Rakyat negara Arab memuji...</td>\n",
       "    </tr>\n",
       "    <tr>\n",
       "      <th>2</th>\n",
       "      <td>@hijabersshangat Kenapa sih Pak? Kecewa banget...</td>\n",
       "    </tr>\n",
       "    <tr>\n",
       "      <th>3</th>\n",
       "      <td>RT @kiminigyu: Gagal Jadi Tuan Rumah Piala Dun...</td>\n",
       "    </tr>\n",
       "    <tr>\n",
       "      <th>4</th>\n",
       "      <td>RT @KepaArgawinata2: BREAKING NEWS !!! \\n\\nIni...</td>\n",
       "    </tr>\n",
       "    <tr>\n",
       "      <th>...</th>\n",
       "      <td>...</td>\n",
       "    </tr>\n",
       "    <tr>\n",
       "      <th>495</th>\n",
       "      <td>Gara gara oknum yang ga konsisten membuat usah...</td>\n",
       "    </tr>\n",
       "    <tr>\n",
       "      <th>496</th>\n",
       "      <td>perjuangan erick thohir diapresiasi keringat d...</td>\n",
       "    </tr>\n",
       "    <tr>\n",
       "      <th>497</th>\n",
       "      <td>Di setiap perjuangan pasti ada kegagalan ,,mak...</td>\n",
       "    </tr>\n",
       "    <tr>\n",
       "      <th>498</th>\n",
       "      <td>Sekang malah muncul kekecewaan dan rasa khawat...</td>\n",
       "    </tr>\n",
       "    <tr>\n",
       "      <th>499</th>\n",
       "      <td>RT @kiminigyu: Gagal Jadi Tuan Rumah Piala Dun...</td>\n",
       "    </tr>\n",
       "  </tbody>\n",
       "</table>\n",
       "<p>500 rows × 1 columns</p>\n",
       "</div>"
      ],
      "text/plain": [
       "                                                 Tweet\n",
       "0    RT @kiminigyu: Gagal Jadi Tuan Rumah Piala Dun...\n",
       "1    RT @republikaonline: Rakyat negara Arab memuji...\n",
       "2    @hijabersshangat Kenapa sih Pak? Kecewa banget...\n",
       "3    RT @kiminigyu: Gagal Jadi Tuan Rumah Piala Dun...\n",
       "4    RT @KepaArgawinata2: BREAKING NEWS !!! \\n\\nIni...\n",
       "..                                                 ...\n",
       "495  Gara gara oknum yang ga konsisten membuat usah...\n",
       "496  perjuangan erick thohir diapresiasi keringat d...\n",
       "497  Di setiap perjuangan pasti ada kegagalan ,,mak...\n",
       "498  Sekang malah muncul kekecewaan dan rasa khawat...\n",
       "499  RT @kiminigyu: Gagal Jadi Tuan Rumah Piala Dun...\n",
       "\n",
       "[500 rows x 1 columns]"
      ]
     },
     "execution_count": 3,
     "metadata": {},
     "output_type": "execute_result"
    }
   ],
   "source": [
    "auth = tweepy.OAuthHandler(api_key, api_key_secret)\n",
    "auth.set_access_token(access_token, access_token_secret)\n",
    "api = tweepy.API(auth)\n",
    "query = \"piala dunia\"\n",
    "tweets = tweepy.Cursor(api.search_tweets, q=query, lang='id').items(500)\n",
    "data = []\n",
    "for tweet in tweets:\n",
    "    data.append([tweet.text])\n",
    "df = pd.DataFrame(data, columns=['Tweet'])\n",
    "df"
   ]
  },
  {
   "attachments": {},
   "cell_type": "markdown",
   "metadata": {},
   "source": [
    "### Data Prepocessing"
   ]
  },
  {
   "cell_type": "code",
   "execution_count": 4,
   "metadata": {},
   "outputs": [],
   "source": [
    "def preprocess_text(text):\n",
    "\n",
    "    text = re.sub(r'^RT[\\s]+', '', text)\n",
    "\n",
    "    text = re.sub(r'http\\S+', '', text)\n",
    "\n",
    "    text = re.sub(r'@\\w+|#\\w+', '', text)\n",
    "\n",
    "    text = text.translate(str.maketrans('', '', string.punctuation))\n",
    "\n",
    "    text = text.lower()\n",
    "\n",
    "    words = text.split()\n",
    "\n",
    "    text = ' '.join(words)\n",
    "\n",
    "    text = re.sub('\\s+', ' ', text).strip()\n",
    "    return text"
   ]
  },
  {
   "cell_type": "code",
   "execution_count": 5,
   "metadata": {},
   "outputs": [
    {
     "name": "stderr",
     "output_type": "stream",
     "text": [
      "[nltk_data] Downloading package stopwords to\n",
      "[nltk_data]     C:\\Users\\xxx\\AppData\\Roaming\\nltk_data...\n",
      "[nltk_data]   Package stopwords is already up-to-date!\n",
      "[nltk_data] Downloading package punkt to\n",
      "[nltk_data]     C:\\Users\\xxx\\AppData\\Roaming\\nltk_data...\n",
      "[nltk_data]   Package punkt is already up-to-date!\n"
     ]
    }
   ],
   "source": [
    "from nltk.tokenize import word_tokenize\n",
    "from nltk.corpus import stopwords\n",
    "nltk.download('stopwords')\n",
    "nltk.download('punkt')\n",
    "def remove_stopwords(text):\n",
    "    stop_words = set(nltk.corpus.stopwords.words('indonesian'))\n",
    "    stop_words.add('piala')\n",
    "    stop_words.add('dunia')\n",
    "    tokens = nltk.word_tokenize(text)\n",
    "    filtered_tokens = [word for word in tokens if not word in stop_words]\n",
    "    text = ' '.join(filtered_tokens)\n",
    "    return text\n",
    "    "
   ]
  },
  {
   "cell_type": "code",
   "execution_count": 6,
   "metadata": {},
   "outputs": [],
   "source": [
    "from nltk.stem import PorterStemmer\n",
    "stemmer = PorterStemmer()\n",
    "\n",
    "def stemming(text):\n",
    "    tokens = nltk.word_tokenize(text)\n",
    "    stemmed_tokens = [stemmer.stem(token) for token in tokens]\n",
    "    text = ' '.join(stemmed_tokens)\n",
    "    return text"
   ]
  },
  {
   "cell_type": "code",
   "execution_count": 7,
   "metadata": {},
   "outputs": [
    {
     "data": {
      "text/html": [
       "<div>\n",
       "<style scoped>\n",
       "    .dataframe tbody tr th:only-of-type {\n",
       "        vertical-align: middle;\n",
       "    }\n",
       "\n",
       "    .dataframe tbody tr th {\n",
       "        vertical-align: top;\n",
       "    }\n",
       "\n",
       "    .dataframe thead th {\n",
       "        text-align: right;\n",
       "    }\n",
       "</style>\n",
       "<table border=\"1\" class=\"dataframe\">\n",
       "  <thead>\n",
       "    <tr style=\"text-align: right;\">\n",
       "      <th></th>\n",
       "      <th>Tweet</th>\n",
       "      <th>tweet_clean</th>\n",
       "    </tr>\n",
       "  </thead>\n",
       "  <tbody>\n",
       "    <tr>\n",
       "      <th>0</th>\n",
       "      <td>RT @kiminigyu: Gagal Jadi Tuan Rumah Piala Dun...</td>\n",
       "      <td>gagal tuan rumah u20 pupu mimpi anak bangsa in...</td>\n",
       "    </tr>\n",
       "    <tr>\n",
       "      <th>1</th>\n",
       "      <td>RT @republikaonline: Rakyat negara Arab memuji...</td>\n",
       "      <td>rakyat negara arab memuji sikap bangsa indones...</td>\n",
       "    </tr>\n",
       "    <tr>\n",
       "      <th>2</th>\n",
       "      <td>@hijabersshangat Kenapa sih Pak? Kecewa banget...</td>\n",
       "      <td>sih kecewa banget loh bacanya indonesia tuan r…</td>\n",
       "    </tr>\n",
       "    <tr>\n",
       "      <th>3</th>\n",
       "      <td>RT @kiminigyu: Gagal Jadi Tuan Rumah Piala Dun...</td>\n",
       "      <td>gagal tuan rumah u20 pupu mimpi anak bangsa in...</td>\n",
       "    </tr>\n",
       "    <tr>\n",
       "      <th>4</th>\n",
       "      <td>RT @KepaArgawinata2: BREAKING NEWS !!! \\n\\nIni...</td>\n",
       "      <td>break news pemain yg membatalkan indonesia tua...</td>\n",
       "    </tr>\n",
       "    <tr>\n",
       "      <th>...</th>\n",
       "      <td>...</td>\n",
       "      <td>...</td>\n",
       "    </tr>\n",
       "    <tr>\n",
       "      <th>495</th>\n",
       "      <td>Gara gara oknum yang ga konsisten membuat usah...</td>\n",
       "      <td>gara gara oknum ga konsisten usaha erick sia s...</td>\n",
       "    </tr>\n",
       "    <tr>\n",
       "      <th>496</th>\n",
       "      <td>perjuangan erick thohir diapresiasi keringat d...</td>\n",
       "      <td>perjuangan erick thohir diapresiasi keringat a...</td>\n",
       "    </tr>\n",
       "    <tr>\n",
       "      <th>497</th>\n",
       "      <td>Di setiap perjuangan pasti ada kegagalan ,,mak...</td>\n",
       "      <td>perjuangan kegagalan bangkit indonesia pupu mi...</td>\n",
       "    </tr>\n",
       "    <tr>\n",
       "      <th>498</th>\n",
       "      <td>Sekang malah muncul kekecewaan dan rasa khawat...</td>\n",
       "      <td>sekang muncul kekecewaan khawatir pemain timna...</td>\n",
       "    </tr>\n",
       "    <tr>\n",
       "      <th>499</th>\n",
       "      <td>RT @kiminigyu: Gagal Jadi Tuan Rumah Piala Dun...</td>\n",
       "      <td>gagal tuan rumah u20 pupu mimpi anak bangsa in...</td>\n",
       "    </tr>\n",
       "  </tbody>\n",
       "</table>\n",
       "<p>500 rows × 2 columns</p>\n",
       "</div>"
      ],
      "text/plain": [
       "                                                 Tweet  \\\n",
       "0    RT @kiminigyu: Gagal Jadi Tuan Rumah Piala Dun...   \n",
       "1    RT @republikaonline: Rakyat negara Arab memuji...   \n",
       "2    @hijabersshangat Kenapa sih Pak? Kecewa banget...   \n",
       "3    RT @kiminigyu: Gagal Jadi Tuan Rumah Piala Dun...   \n",
       "4    RT @KepaArgawinata2: BREAKING NEWS !!! \\n\\nIni...   \n",
       "..                                                 ...   \n",
       "495  Gara gara oknum yang ga konsisten membuat usah...   \n",
       "496  perjuangan erick thohir diapresiasi keringat d...   \n",
       "497  Di setiap perjuangan pasti ada kegagalan ,,mak...   \n",
       "498  Sekang malah muncul kekecewaan dan rasa khawat...   \n",
       "499  RT @kiminigyu: Gagal Jadi Tuan Rumah Piala Dun...   \n",
       "\n",
       "                                           tweet_clean  \n",
       "0    gagal tuan rumah u20 pupu mimpi anak bangsa in...  \n",
       "1    rakyat negara arab memuji sikap bangsa indones...  \n",
       "2      sih kecewa banget loh bacanya indonesia tuan r…  \n",
       "3    gagal tuan rumah u20 pupu mimpi anak bangsa in...  \n",
       "4    break news pemain yg membatalkan indonesia tua...  \n",
       "..                                                 ...  \n",
       "495  gara gara oknum ga konsisten usaha erick sia s...  \n",
       "496  perjuangan erick thohir diapresiasi keringat a...  \n",
       "497  perjuangan kegagalan bangkit indonesia pupu mi...  \n",
       "498  sekang muncul kekecewaan khawatir pemain timna...  \n",
       "499  gagal tuan rumah u20 pupu mimpi anak bangsa in...  \n",
       "\n",
       "[500 rows x 2 columns]"
      ]
     },
     "execution_count": 7,
     "metadata": {},
     "output_type": "execute_result"
    }
   ],
   "source": [
    "df['tweet_clean'] = df['Tweet'].apply(preprocess_text)\n",
    "df['tweet_clean'] = df['tweet_clean'].apply(remove_stopwords)\n",
    "df['tweet_clean'] = df['tweet_clean'].apply(stemming)\n",
    "df"
   ]
  },
  {
   "cell_type": "code",
   "execution_count": 8,
   "metadata": {},
   "outputs": [
    {
     "data": {
      "image/png": "[encoded data removed]",
      "text/plain": [
       "<Figure size 640x480 with 1 Axes>"
      ]
     },
     "metadata": {},
     "output_type": "display_data"
    }
   ],
   "source": [
    "import seaborn as sns\n",
    "sns.set_style(\"darkgrid\")\n",
    "words = []\n",
    "for tweet in df[\"tweet_clean\"]:\n",
    "    words.extend(re.findall(r'\\b\\w+\\b', tweet))\n",
    "word_freq = pd.Series(words).value_counts()\n",
    "top10 = word_freq[:10].reset_index(name='counts').rename(columns={'index':'words'})\n",
    "sns.barplot(x='words', y='counts', data=top10, palette='Blues_d')\n",
    "plt.xlabel(\"Kata\")\n",
    "plt.ylabel(\"Frekuensi\")\n",
    "plt.title(\"Distribusi Kata\")\n",
    "plt.show()\n"
   ]
  },
  {
   "attachments": {},
   "cell_type": "markdown",
   "metadata": {},
   "source": [
    "hasil dari keyword \"piala dunia\" adalah membahas tentang batalnya indonesia sebagai tuan rumah piala dunia"
   ]
  },
  {
   "attachments": {},
   "cell_type": "markdown",
   "metadata": {},
   "source": [
    "## Sentiment Analisis"
   ]
  },
  {
   "cell_type": "code",
   "execution_count": 9,
   "metadata": {},
   "outputs": [],
   "source": [
    "from sklearn.feature_extraction.text import TfidfVectorizer\n",
    "from sklearn.naive_bayes import GaussianNB\n",
    "from sklearn.model_selection import train_test_split\n",
    "from sklearn.metrics import classification_report, confusion_matrix, accuracy_score"
   ]
  },
  {
   "cell_type": "code",
   "execution_count": 10,
   "metadata": {},
   "outputs": [
    {
     "data": {
      "text/html": [
       "<div>\n",
       "<style scoped>\n",
       "    .dataframe tbody tr th:only-of-type {\n",
       "        vertical-align: middle;\n",
       "    }\n",
       "\n",
       "    .dataframe tbody tr th {\n",
       "        vertical-align: top;\n",
       "    }\n",
       "\n",
       "    .dataframe thead th {\n",
       "        text-align: right;\n",
       "    }\n",
       "</style>\n",
       "<table border=\"1\" class=\"dataframe\">\n",
       "  <thead>\n",
       "    <tr style=\"text-align: right;\">\n",
       "      <th></th>\n",
       "      <th>Id</th>\n",
       "      <th>Sentiment</th>\n",
       "      <th>Instagram Comment Text</th>\n",
       "    </tr>\n",
       "  </thead>\n",
       "  <tbody>\n",
       "    <tr>\n",
       "      <th>0</th>\n",
       "      <td>1</td>\n",
       "      <td>negative</td>\n",
       "      <td>&lt;USERNAME&gt; TOLOL!! Gak ada hubungan nya kegug...</td>\n",
       "    </tr>\n",
       "    <tr>\n",
       "      <th>1</th>\n",
       "      <td>2</td>\n",
       "      <td>negative</td>\n",
       "      <td>Geblek lo tata...cowo bgt dibela2in balikan......</td>\n",
       "    </tr>\n",
       "    <tr>\n",
       "      <th>2</th>\n",
       "      <td>3</td>\n",
       "      <td>negative</td>\n",
       "      <td>Kmrn termewek2 skr lengket lg duhhh kok labil ...</td>\n",
       "    </tr>\n",
       "    <tr>\n",
       "      <th>3</th>\n",
       "      <td>4</td>\n",
       "      <td>negative</td>\n",
       "      <td>Intinya kalau kesel dengan ATT nya, gausah ke ...</td>\n",
       "    </tr>\n",
       "    <tr>\n",
       "      <th>4</th>\n",
       "      <td>5</td>\n",
       "      <td>negative</td>\n",
       "      <td>hadewwwww permpuan itu lg!!!!sakit jiwa,knp ha...</td>\n",
       "    </tr>\n",
       "    <tr>\n",
       "      <th>...</th>\n",
       "      <td>...</td>\n",
       "      <td>...</td>\n",
       "      <td>...</td>\n",
       "    </tr>\n",
       "    <tr>\n",
       "      <th>395</th>\n",
       "      <td>396</td>\n",
       "      <td>positive</td>\n",
       "      <td>Bangga sama suami yg selalu ingat istri disela...</td>\n",
       "    </tr>\n",
       "    <tr>\n",
       "      <th>396</th>\n",
       "      <td>397</td>\n",
       "      <td>positive</td>\n",
       "      <td>Apaoun pekerjaannya yg penting halal u tuk men...</td>\n",
       "    </tr>\n",
       "    <tr>\n",
       "      <th>397</th>\n",
       "      <td>398</td>\n",
       "      <td>positive</td>\n",
       "      <td>Gojek itu mayoritas pegangguran yang lama gak ...</td>\n",
       "    </tr>\n",
       "    <tr>\n",
       "      <th>398</th>\n",
       "      <td>399</td>\n",
       "      <td>positive</td>\n",
       "      <td>&lt;USERNAME&gt; aslinya cantik dan ayu loh mbak kr...</td>\n",
       "    </tr>\n",
       "    <tr>\n",
       "      <th>399</th>\n",
       "      <td>400</td>\n",
       "      <td>positive</td>\n",
       "      <td>&lt;USERNAME&gt; suami saya seumuran sama saya mba,...</td>\n",
       "    </tr>\n",
       "  </tbody>\n",
       "</table>\n",
       "<p>400 rows × 3 columns</p>\n",
       "</div>"
      ],
      "text/plain": [
       "      Id Sentiment                             Instagram Comment Text\n",
       "0      1  negative   <USERNAME> TOLOL!! Gak ada hubungan nya kegug...\n",
       "1      2  negative  Geblek lo tata...cowo bgt dibela2in balikan......\n",
       "2      3  negative  Kmrn termewek2 skr lengket lg duhhh kok labil ...\n",
       "3      4  negative  Intinya kalau kesel dengan ATT nya, gausah ke ...\n",
       "4      5  negative  hadewwwww permpuan itu lg!!!!sakit jiwa,knp ha...\n",
       "..   ...       ...                                                ...\n",
       "395  396  positive  Bangga sama suami yg selalu ingat istri disela...\n",
       "396  397  positive  Apaoun pekerjaannya yg penting halal u tuk men...\n",
       "397  398  positive  Gojek itu mayoritas pegangguran yang lama gak ...\n",
       "398  399  positive   <USERNAME> aslinya cantik dan ayu loh mbak kr...\n",
       "399  400  positive   <USERNAME> suami saya seumuran sama saya mba,...\n",
       "\n",
       "[400 rows x 3 columns]"
      ]
     },
     "execution_count": 10,
     "metadata": {},
     "output_type": "execute_result"
    }
   ],
   "source": [
    "df_tweets_model=pd.read_csv('dataset_komentar_instagram_cyberbullying.csv')\n",
    "df_tweets_model"
   ]
  },
  {
   "cell_type": "code",
   "execution_count": 11,
   "metadata": {},
   "outputs": [],
   "source": [
    "df_tweets_model.rename(columns={\"Instagram Comment Text\":\"Text\"}, inplace=True)\n",
    "df_tweets_model.drop(columns=[\"Id\"],inplace=True,)\n",
    "df_tweets_model.replace({\"Sentiment\":{\"negative\":0, \"positive\":1}}, inplace=True)\n"
   ]
  },
  {
   "cell_type": "code",
   "execution_count": 12,
   "metadata": {},
   "outputs": [
    {
     "data": {
      "text/html": [
       "<div>\n",
       "<style scoped>\n",
       "    .dataframe tbody tr th:only-of-type {\n",
       "        vertical-align: middle;\n",
       "    }\n",
       "\n",
       "    .dataframe tbody tr th {\n",
       "        vertical-align: top;\n",
       "    }\n",
       "\n",
       "    .dataframe thead th {\n",
       "        text-align: right;\n",
       "    }\n",
       "</style>\n",
       "<table border=\"1\" class=\"dataframe\">\n",
       "  <thead>\n",
       "    <tr style=\"text-align: right;\">\n",
       "      <th></th>\n",
       "      <th>Sentiment</th>\n",
       "      <th>Text</th>\n",
       "      <th>clean_text</th>\n",
       "    </tr>\n",
       "  </thead>\n",
       "  <tbody>\n",
       "    <tr>\n",
       "      <th>0</th>\n",
       "      <td>0</td>\n",
       "      <td>&lt;USERNAME&gt; TOLOL!! Gak ada hubungan nya kegug...</td>\n",
       "      <td>usernam tolol gak hubungan nya keguguran dgn p...</td>\n",
       "    </tr>\n",
       "    <tr>\n",
       "      <th>1</th>\n",
       "      <td>0</td>\n",
       "      <td>Geblek lo tata...cowo bgt dibela2in balikan......</td>\n",
       "      <td>geblek lo tatacowo bgt dibela2in balikanhadeww...</td>\n",
       "    </tr>\n",
       "    <tr>\n",
       "      <th>2</th>\n",
       "      <td>0</td>\n",
       "      <td>Kmrn termewek2 skr lengket lg duhhh kok labil ...</td>\n",
       "      <td>kmrn termewek2 skr lengket lg duhhh labil bgt ...</td>\n",
       "    </tr>\n",
       "    <tr>\n",
       "      <th>3</th>\n",
       "      <td>0</td>\n",
       "      <td>Intinya kalau kesel dengan ATT nya, gausah ke ...</td>\n",
       "      <td>intinya kesel att nya gausah anaknya kasian pe...</td>\n",
       "    </tr>\n",
       "    <tr>\n",
       "      <th>4</th>\n",
       "      <td>0</td>\n",
       "      <td>hadewwwww permpuan itu lg!!!!sakit jiwa,knp ha...</td>\n",
       "      <td>hadewwwww permpuan lgsakit jiwaknp yg jd peran...</td>\n",
       "    </tr>\n",
       "    <tr>\n",
       "      <th>...</th>\n",
       "      <td>...</td>\n",
       "      <td>...</td>\n",
       "      <td>...</td>\n",
       "    </tr>\n",
       "    <tr>\n",
       "      <th>395</th>\n",
       "      <td>1</td>\n",
       "      <td>Bangga sama suami yg selalu ingat istri disela...</td>\n",
       "      <td>bangga suami yg istri disela apapun profesimu ...</td>\n",
       "    </tr>\n",
       "    <tr>\n",
       "      <th>396</th>\n",
       "      <td>1</td>\n",
       "      <td>Apaoun pekerjaannya yg penting halal u tuk men...</td>\n",
       "      <td>apaoun pekerjaannya yg halal u tuk menafkahi k...</td>\n",
       "    </tr>\n",
       "    <tr>\n",
       "      <th>397</th>\n",
       "      <td>1</td>\n",
       "      <td>Gojek itu mayoritas pegangguran yang lama gak ...</td>\n",
       "      <td>gojek mayorita pegangguran gak kerja tru putu ...</td>\n",
       "    </tr>\n",
       "    <tr>\n",
       "      <th>398</th>\n",
       "      <td>1</td>\n",
       "      <td>&lt;USERNAME&gt; aslinya cantik dan ayu loh mbak kr...</td>\n",
       "      <td>usernam aslinya cantik ayu loh mbak krn bertem...</td>\n",
       "    </tr>\n",
       "    <tr>\n",
       "      <th>399</th>\n",
       "      <td>1</td>\n",
       "      <td>&lt;USERNAME&gt; suami saya seumuran sama saya mba,...</td>\n",
       "      <td>usernam suami seumuran mba tuaan alhamdulillah...</td>\n",
       "    </tr>\n",
       "  </tbody>\n",
       "</table>\n",
       "<p>400 rows × 3 columns</p>\n",
       "</div>"
      ],
      "text/plain": [
       "     Sentiment                                               Text  \\\n",
       "0            0   <USERNAME> TOLOL!! Gak ada hubungan nya kegug...   \n",
       "1            0  Geblek lo tata...cowo bgt dibela2in balikan......   \n",
       "2            0  Kmrn termewek2 skr lengket lg duhhh kok labil ...   \n",
       "3            0  Intinya kalau kesel dengan ATT nya, gausah ke ...   \n",
       "4            0  hadewwwww permpuan itu lg!!!!sakit jiwa,knp ha...   \n",
       "..         ...                                                ...   \n",
       "395          1  Bangga sama suami yg selalu ingat istri disela...   \n",
       "396          1  Apaoun pekerjaannya yg penting halal u tuk men...   \n",
       "397          1  Gojek itu mayoritas pegangguran yang lama gak ...   \n",
       "398          1   <USERNAME> aslinya cantik dan ayu loh mbak kr...   \n",
       "399          1   <USERNAME> suami saya seumuran sama saya mba,...   \n",
       "\n",
       "                                            clean_text  \n",
       "0    usernam tolol gak hubungan nya keguguran dgn p...  \n",
       "1    geblek lo tatacowo bgt dibela2in balikanhadeww...  \n",
       "2    kmrn termewek2 skr lengket lg duhhh labil bgt ...  \n",
       "3    intinya kesel att nya gausah anaknya kasian pe...  \n",
       "4    hadewwwww permpuan lgsakit jiwaknp yg jd peran...  \n",
       "..                                                 ...  \n",
       "395  bangga suami yg istri disela apapun profesimu ...  \n",
       "396  apaoun pekerjaannya yg halal u tuk menafkahi k...  \n",
       "397  gojek mayorita pegangguran gak kerja tru putu ...  \n",
       "398  usernam aslinya cantik ayu loh mbak krn bertem...  \n",
       "399  usernam suami seumuran mba tuaan alhamdulillah...  \n",
       "\n",
       "[400 rows x 3 columns]"
      ]
     },
     "execution_count": 12,
     "metadata": {},
     "output_type": "execute_result"
    }
   ],
   "source": [
    "df_tweets_model['clean_text'] = df_tweets_model['Text'].apply(preprocess_text)\n",
    "df_tweets_model['clean_text'] = df_tweets_model['clean_text'].apply(remove_stopwords)\n",
    "df_tweets_model['clean_text'] = df_tweets_model['clean_text'].apply(stemming)\n",
    "df_tweets_model"
   ]
  },
  {
   "cell_type": "code",
   "execution_count": 13,
   "metadata": {},
   "outputs": [
    {
     "data": {
      "text/html": [
       "<style>#sk-container-id-1 {color: black;background-color: white;}#sk-container-id-1 pre{padding: 0;}#sk-container-id-1 div.sk-toggleable {background-color: white;}#sk-container-id-1 label.sk-toggleable__label {cursor: pointer;display: block;width: 100%;margin-bottom: 0;padding: 0.3em;box-sizing: border-box;text-align: center;}#sk-container-id-1 label.sk-toggleable__label-arrow:before {content: \"▸\";float: left;margin-right: 0.25em;color: #696969;}#sk-container-id-1 label.sk-toggleable__label-arrow:hover:before {color: black;}#sk-container-id-1 div.sk-estimator:hover label.sk-toggleable__label-arrow:before {color: black;}#sk-container-id-1 div.sk-toggleable__content {max-height: 0;max-width: 0;overflow: hidden;text-align: left;background-color: #f0f8ff;}#sk-container-id-1 div.sk-toggleable__content pre {margin: 0.2em;color: black;border-radius: 0.25em;background-color: #f0f8ff;}#sk-container-id-1 input.sk-toggleable__control:checked~div.sk-toggleable__content {max-height: 200px;max-width: 100%;overflow: auto;}#sk-container-id-1 input.sk-toggleable__control:checked~label.sk-toggleable__label-arrow:before {content: \"▾\";}#sk-container-id-1 div.sk-estimator input.sk-toggleable__control:checked~label.sk-toggleable__label {background-color: #d4ebff;}#sk-container-id-1 div.sk-label input.sk-toggleable__control:checked~label.sk-toggleable__label {background-color: #d4ebff;}#sk-container-id-1 input.sk-hidden--visually {border: 0;clip: rect(1px 1px 1px 1px);clip: rect(1px, 1px, 1px, 1px);height: 1px;margin: -1px;overflow: hidden;padding: 0;position: absolute;width: 1px;}#sk-container-id-1 div.sk-estimator {font-family: monospace;background-color: #f0f8ff;border: 1px dotted black;border-radius: 0.25em;box-sizing: border-box;margin-bottom: 0.5em;}#sk-container-id-1 div.sk-estimator:hover {background-color: #d4ebff;}#sk-container-id-1 div.sk-parallel-item::after {content: \"\";width: 100%;border-bottom: 1px solid gray;flex-grow: 1;}#sk-container-id-1 div.sk-label:hover label.sk-toggleable__label {background-color: #d4ebff;}#sk-container-id-1 div.sk-serial::before {content: \"\";position: absolute;border-left: 1px solid gray;box-sizing: border-box;top: 0;bottom: 0;left: 50%;z-index: 0;}#sk-container-id-1 div.sk-serial {display: flex;flex-direction: column;align-items: center;background-color: white;padding-right: 0.2em;padding-left: 0.2em;position: relative;}#sk-container-id-1 div.sk-item {position: relative;z-index: 1;}#sk-container-id-1 div.sk-parallel {display: flex;align-items: stretch;justify-content: center;background-color: white;position: relative;}#sk-container-id-1 div.sk-item::before, #sk-container-id-1 div.sk-parallel-item::before {content: \"\";position: absolute;border-left: 1px solid gray;box-sizing: border-box;top: 0;bottom: 0;left: 50%;z-index: -1;}#sk-container-id-1 div.sk-parallel-item {display: flex;flex-direction: column;z-index: 1;position: relative;background-color: white;}#sk-container-id-1 div.sk-parallel-item:first-child::after {align-self: flex-end;width: 50%;}#sk-container-id-1 div.sk-parallel-item:last-child::after {align-self: flex-start;width: 50%;}#sk-container-id-1 div.sk-parallel-item:only-child::after {width: 0;}#sk-container-id-1 div.sk-dashed-wrapped {border: 1px dashed gray;margin: 0 0.4em 0.5em 0.4em;box-sizing: border-box;padding-bottom: 0.4em;background-color: white;}#sk-container-id-1 div.sk-label label {font-family: monospace;font-weight: bold;display: inline-block;line-height: 1.2em;}#sk-container-id-1 div.sk-label-container {text-align: center;}#sk-container-id-1 div.sk-container {/* jupyter's `normalize.less` sets `[hidden] { display: none; }` but bootstrap.min.css set `[hidden] { display: none !important; }` so we also need the `!important` here to be able to override the default hidden behavior on the sphinx rendered scikit-learn.org. See: https://github.com/scikit-learn/scikit-learn/issues/21755 */display: inline-block !important;position: relative;}#sk-container-id-1 div.sk-text-repr-fallback {display: none;}</style><div id=\"sk-container-id-1\" class=\"sk-top-container\"><div class=\"sk-text-repr-fallback\"><pre>GaussianNB()</pre><b>In a Jupyter environment, please rerun this cell to show the HTML representation or trust the notebook. <br />On GitHub, the HTML representation is unable to render, please try loading this page with nbviewer.org.</b></div><div class=\"sk-container\" hidden><div class=\"sk-item\"><div class=\"sk-estimator sk-toggleable\"><input class=\"sk-toggleable__control sk-hidden--visually\" id=\"sk-estimator-id-1\" type=\"checkbox\" checked><label for=\"sk-estimator-id-1\" class=\"sk-toggleable__label sk-toggleable__label-arrow\">GaussianNB</label><div class=\"sk-toggleable__content\"><pre>GaussianNB()</pre></div></div></div></div></div>"
      ],
      "text/plain": [
       "GaussianNB()"
      ]
     },
     "execution_count": 13,
     "metadata": {},
     "output_type": "execute_result"
    }
   ],
   "source": [
    "vectorizer = TfidfVectorizer (max_features=2500)\n",
    "\n",
    "model_g = GaussianNB()\n",
    "v_data = vectorizer.fit_transform(df_tweets_model['clean_text']).toarray()\n",
    "X_train, X_test, y_train, y_test = train_test_split(v_data, df_tweets_model['Sentiment'], test_size=0.2, random_state=18)\n",
    "\n",
    "model_g.fit(X_train,y_train)"
   ]
  },
  {
   "cell_type": "code",
   "execution_count": 14,
   "metadata": {},
   "outputs": [],
   "source": [
    "y_preds = model_g.predict(X_test)\n",
    "v_data = vectorizer.transform(df['tweet_clean']).toarray()\n",
    "\n",
    "y_classification = model_g.predict(v_data)"
   ]
  },
  {
   "cell_type": "code",
   "execution_count": 15,
   "metadata": {},
   "outputs": [],
   "source": [
    "df[\"sentiment\"] = list(y_classification)"
   ]
  },
  {
   "cell_type": "code",
   "execution_count": 16,
   "metadata": {},
   "outputs": [
    {
     "data": {
      "text/html": [
       "<div>\n",
       "<style scoped>\n",
       "    .dataframe tbody tr th:only-of-type {\n",
       "        vertical-align: middle;\n",
       "    }\n",
       "\n",
       "    .dataframe tbody tr th {\n",
       "        vertical-align: top;\n",
       "    }\n",
       "\n",
       "    .dataframe thead th {\n",
       "        text-align: right;\n",
       "    }\n",
       "</style>\n",
       "<table border=\"1\" class=\"dataframe\">\n",
       "  <thead>\n",
       "    <tr style=\"text-align: right;\">\n",
       "      <th></th>\n",
       "      <th>Tweet</th>\n",
       "      <th>tweet_clean</th>\n",
       "      <th>sentiment</th>\n",
       "    </tr>\n",
       "  </thead>\n",
       "  <tbody>\n",
       "    <tr>\n",
       "      <th>0</th>\n",
       "      <td>RT @kiminigyu: Gagal Jadi Tuan Rumah Piala Dun...</td>\n",
       "      <td>gagal tuan rumah u20 pupu mimpi anak bangsa in...</td>\n",
       "      <td>1</td>\n",
       "    </tr>\n",
       "    <tr>\n",
       "      <th>1</th>\n",
       "      <td>RT @republikaonline: Rakyat negara Arab memuji...</td>\n",
       "      <td>rakyat negara arab memuji sikap bangsa indones...</td>\n",
       "      <td>1</td>\n",
       "    </tr>\n",
       "    <tr>\n",
       "      <th>2</th>\n",
       "      <td>@hijabersshangat Kenapa sih Pak? Kecewa banget...</td>\n",
       "      <td>sih kecewa banget loh bacanya indonesia tuan r…</td>\n",
       "      <td>0</td>\n",
       "    </tr>\n",
       "    <tr>\n",
       "      <th>3</th>\n",
       "      <td>RT @kiminigyu: Gagal Jadi Tuan Rumah Piala Dun...</td>\n",
       "      <td>gagal tuan rumah u20 pupu mimpi anak bangsa in...</td>\n",
       "      <td>1</td>\n",
       "    </tr>\n",
       "    <tr>\n",
       "      <th>4</th>\n",
       "      <td>RT @KepaArgawinata2: BREAKING NEWS !!! \\n\\nIni...</td>\n",
       "      <td>break news pemain yg membatalkan indonesia tua...</td>\n",
       "      <td>1</td>\n",
       "    </tr>\n",
       "    <tr>\n",
       "      <th>...</th>\n",
       "      <td>...</td>\n",
       "      <td>...</td>\n",
       "      <td>...</td>\n",
       "    </tr>\n",
       "    <tr>\n",
       "      <th>495</th>\n",
       "      <td>Gara gara oknum yang ga konsisten membuat usah...</td>\n",
       "      <td>gara gara oknum ga konsisten usaha erick sia s...</td>\n",
       "      <td>1</td>\n",
       "    </tr>\n",
       "    <tr>\n",
       "      <th>496</th>\n",
       "      <td>perjuangan erick thohir diapresiasi keringat d...</td>\n",
       "      <td>perjuangan erick thohir diapresiasi keringat a...</td>\n",
       "      <td>1</td>\n",
       "    </tr>\n",
       "    <tr>\n",
       "      <th>497</th>\n",
       "      <td>Di setiap perjuangan pasti ada kegagalan ,,mak...</td>\n",
       "      <td>perjuangan kegagalan bangkit indonesia pupu mi...</td>\n",
       "      <td>1</td>\n",
       "    </tr>\n",
       "    <tr>\n",
       "      <th>498</th>\n",
       "      <td>Sekang malah muncul kekecewaan dan rasa khawat...</td>\n",
       "      <td>sekang muncul kekecewaan khawatir pemain timna...</td>\n",
       "      <td>1</td>\n",
       "    </tr>\n",
       "    <tr>\n",
       "      <th>499</th>\n",
       "      <td>RT @kiminigyu: Gagal Jadi Tuan Rumah Piala Dun...</td>\n",
       "      <td>gagal tuan rumah u20 pupu mimpi anak bangsa in...</td>\n",
       "      <td>1</td>\n",
       "    </tr>\n",
       "  </tbody>\n",
       "</table>\n",
       "<p>500 rows × 3 columns</p>\n",
       "</div>"
      ],
      "text/plain": [
       "                                                 Tweet  \\\n",
       "0    RT @kiminigyu: Gagal Jadi Tuan Rumah Piala Dun...   \n",
       "1    RT @republikaonline: Rakyat negara Arab memuji...   \n",
       "2    @hijabersshangat Kenapa sih Pak? Kecewa banget...   \n",
       "3    RT @kiminigyu: Gagal Jadi Tuan Rumah Piala Dun...   \n",
       "4    RT @KepaArgawinata2: BREAKING NEWS !!! \\n\\nIni...   \n",
       "..                                                 ...   \n",
       "495  Gara gara oknum yang ga konsisten membuat usah...   \n",
       "496  perjuangan erick thohir diapresiasi keringat d...   \n",
       "497  Di setiap perjuangan pasti ada kegagalan ,,mak...   \n",
       "498  Sekang malah muncul kekecewaan dan rasa khawat...   \n",
       "499  RT @kiminigyu: Gagal Jadi Tuan Rumah Piala Dun...   \n",
       "\n",
       "                                           tweet_clean  sentiment  \n",
       "0    gagal tuan rumah u20 pupu mimpi anak bangsa in...          1  \n",
       "1    rakyat negara arab memuji sikap bangsa indones...          1  \n",
       "2      sih kecewa banget loh bacanya indonesia tuan r…          0  \n",
       "3    gagal tuan rumah u20 pupu mimpi anak bangsa in...          1  \n",
       "4    break news pemain yg membatalkan indonesia tua...          1  \n",
       "..                                                 ...        ...  \n",
       "495  gara gara oknum ga konsisten usaha erick sia s...          1  \n",
       "496  perjuangan erick thohir diapresiasi keringat a...          1  \n",
       "497  perjuangan kegagalan bangkit indonesia pupu mi...          1  \n",
       "498  sekang muncul kekecewaan khawatir pemain timna...          1  \n",
       "499  gagal tuan rumah u20 pupu mimpi anak bangsa in...          1  \n",
       "\n",
       "[500 rows x 3 columns]"
      ]
     },
     "execution_count": 16,
     "metadata": {},
     "output_type": "execute_result"
    }
   ],
   "source": [
    "df"
   ]
  },
  {
   "cell_type": "code",
   "execution_count": 17,
   "metadata": {},
   "outputs": [
    {
     "name": "stdout",
     "output_type": "stream",
     "text": [
      "jumlah komentar positif sebanyak 398 dari 500 tweet\n",
      "jumlah komentar negatif sebanyak 102 dari 500 tweet\n"
     ]
    }
   ],
   "source": [
    "jumlah_komentar_positif = (df['sentiment'] == 1).sum()\n",
    "jumlah_komentar_negatif = (df['sentiment'] == 0).sum()\n",
    "print('jumlah komentar positif sebanyak '+ str(jumlah_komentar_positif) + ' dari 500 tweet')\n",
    "print('jumlah komentar negatif sebanyak '+ str(jumlah_komentar_negatif) + ' dari 500 tweet')"
   ]
  },
  {
   "cell_type": "code",
   "execution_count": 18,
   "metadata": {},
   "outputs": [
    {
     "data": {
      "image/png": "[encoded data removed]",
      "text/plain": [
       "<Figure size 640x480 with 1 Axes>"
      ]
     },
     "metadata": {},
     "output_type": "display_data"
    }
   ],
   "source": [
    "import matplotlib.pyplot as plt\n",
    "import seaborn as sns\n",
    "\n",
    "labels = ['Negative', 'Positive']\n",
    "sizes = [len(df[df['sentiment'] == 0]), len(df[df['sentiment'] == 1])]\n",
    "colors = ['#FCAE99','#9DDCDC']\n",
    "\n",
    "sns.set_palette(sns.color_palette(colors))\n",
    "plt.pie(sizes, labels=labels, autopct='%1.1f%%', startangle=90, textprops={'fontsize': 14})\n",
    "plt.axis('equal')\n",
    "plt.title('Sentiment Distribution', fontsize=16)\n",
    "plt.show()\n",
    "\n"
   ]
  },
  {
   "attachments": {},
   "cell_type": "markdown",
   "metadata": {},
   "source": [
    "##### kesimpulan :"
   ]
  },
  {
   "attachments": {},
   "cell_type": "markdown",
   "metadata": {},
   "source": [
    "    - hasil analisis masyarakat indonesia tentang piala dunia membahas tentang batalnya indonesia sebagai tuan rumah piala dunia u-20"
   ]
  },
  {
   "attachments": {},
   "cell_type": "markdown",
   "metadata": {},
   "source": [
    "    - tidak ada atau sedikit sekali yang membahas piala dunia senior. hal ini dibuktikan dari 10 kata terbanyak tidak ada kata yang berkaitan tentang \"argentina\", \"messi\" ataupun \"prancis\""
   ]
  },
  {
   "attachments": {},
   "cell_type": "markdown",
   "metadata": {},
   "source": [
    "    - sentimen masyarakat indonesia tentang piala dunia memiliki komentar positif yang lebih tinggi dibanding komentar negatif"
   ]
  },
  {
   "attachments": {},
   "cell_type": "markdown",
   "metadata": {},
   "source": [
    "    - meskipun memiliki komentar positif yang lebih banyak, persentase komentar negatif memiliki nilai yang cukup tinggi, yaitu sebanyak 20,4%"
   ]
  }
 ],
 "metadata": {
  "kernelspec": {
   "display_name": "Python 3",
   "language": "python",
   "name": "python3"
  },
  "language_info": {
   "codemirror_mode": {
    "name": "ipython",
    "version": 3
   },
   "file_extension": ".py",
   "mimetype": "text/x-python",
   "name": "python",
   "nbconvert_exporter": "python",
   "pygments_lexer": "ipython3",
   "version": "3.11.2"
  },
  "orig_nbformat": 4,
  "vscode": {
   "interpreter": {
    "hash": "d679641aba733ede9727b292204db6fa3a7ef984f48d9bf371426a5130641f97"
   }
  }
 },
 "nbformat": 4,
 "nbformat_minor": 2
}
